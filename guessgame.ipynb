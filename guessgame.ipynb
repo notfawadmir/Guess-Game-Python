{
  "nbformat": 4,
  "nbformat_minor": 0,
  "metadata": {
    "colab": {
      "provenance": [],
      "authorship_tag": "ABX9TyMT0aeg7g0hGCcJOgLnOzu/",
      "include_colab_link": true
    },
    "kernelspec": {
      "name": "python3",
      "display_name": "Python 3"
    },
    "language_info": {
      "name": "python"
    }
  },
  "cells": [
    {
      "cell_type": "markdown",
      "metadata": {
        "id": "view-in-github",
        "colab_type": "text"
      },
      "source": [
        "<a href=\"https://colab.research.google.com/github/notfawadmir/Guess-Game-Python/blob/main/guessgame.ipynb\" target=\"_parent\"><img src=\"https://colab.research.google.com/assets/colab-badge.svg\" alt=\"Open In Colab\"/></a>"
      ]
    },
    {
      "cell_type": "code",
      "execution_count": null,
      "metadata": {
        "colab": {
          "base_uri": "https://localhost:8080/"
        },
        "id": "pPWvTXJ7hPui",
        "outputId": "54ee6056-5faf-4422-a7a5-c0b32119bdcd"
      },
      "outputs": [
        {
          "output_type": "stream",
          "name": "stdout",
          "text": [
            "\t\t\t\t\t<------------>\n",
            "\t\t\t\t\t  Guess Game\n",
            "\t\t\t\t\t<------------>\n",
            "\n",
            "\t\t\t<--------------------------------->\n",
            "\t\t\t  Guess a number between 1 to 20\n",
            "\t\t\t<--------------------------------->\n",
            "\n",
            "\t\t\t===================================\n",
            "\t\t\tEnter your guess : 12\n",
            "\t\t\tnumber is 'LOWER' than your guess\n",
            "\t\t\t===================================\n",
            "\n",
            "\t\t\t===================================\n",
            "\t\t\tEnter your guess : 6\n",
            "\t\t\tnumber is 'LOWER' than your guess\n",
            "\t\t\t===================================\n",
            "\n",
            "\t\t\t===================================\n",
            "\t\t\tEnter your guess : 3\n",
            "\t\t\tnumber is 'LOWER' than your guess\n",
            "\t\t\t===================================\n",
            "\n",
            "\t\t\t===================================\n",
            "\t\t\tEnter your guess : 2\n",
            "\t\t\tnumber is 'LOWER' than your guess\n",
            "\t\t\t===================================\n",
            "\n",
            "\t\t\t===================================\n",
            "\t\t\tEnter your guess : 1\n",
            "\t\t\t===================================\n",
            "\n",
            "\t\t\t======================================\n",
            "\t\t\tyou guessed it right 1  is the number\n",
            "\t\t\t======================================\n",
            "\n",
            "\t\t\t|--------------------------------------------|\n",
            "\t\t\t    you guessed it correctly in '5' Tries\n",
            "\t\t\t|--------------------------------------------|\n"
          ]
        }
      ],
      "source": [
        "import random\n",
        "n=20\n",
        "guesses=0\n",
        "num=random.randint(1,n)\n",
        "flag=True\n",
        "print(\"\\t\\t\\t\\t\\t<------------>\")\n",
        "print(\"\\t\\t\\t\\t\\t  Guess Game\")\n",
        "print(\"\\t\\t\\t\\t\\t<------------>\\n\")\n",
        "\n",
        "print(\"\\t\\t\\t<--------------------------------->\")\n",
        "print(\"\\t\\t\\t  Guess a number between 1 to 20\")\n",
        "print(\"\\t\\t\\t<--------------------------------->\\n\")\n",
        "\n",
        "while(flag==True):\n",
        "  guesses +=1\n",
        "  print(\"\\t\\t\\t===================================\")\n",
        "  guess=int(input(\"\\t\\t\\tEnter your guess : \"))\n",
        "\n",
        "  if(guess>n or guess<0):\n",
        "    print(\"\\t\\t\\t\\nNumber Given Is Not In The Range\")\n",
        "    print(\"\\t\\t\\tTry again !\")\n",
        "    print(\"\\t\\t\\t===================================\\n\")\n",
        "  elif(guess>num):\n",
        "    print(\"\\t\\t\\tnumber is 'LOWER' than your guess\")\n",
        "    print(\"\\t\\t\\t===================================\\n\")\n",
        "\n",
        "  elif(guess<num):\n",
        "    print(\"\\t\\t\\tnumber is 'GREATER' than your guess\")\n",
        "    print(\"\\t\\t\\t===================================\\n\")\n",
        "\n",
        "  elif(guess==num):\n",
        "\n",
        "    print(\"\\t\\t\\t===================================\\n\")\n",
        "    print(\"\\t\\t\\t======================================\")\n",
        "    print(\"\\t\\t\\tyou guessed it right\",num,\" is the number\")\n",
        "    print(\"\\t\\t\\t======================================\\n\")\n",
        "    flag=False\n",
        "  else:\n",
        "    print(\"\\t\\t\\tinvalid input try again\")\n",
        "\n",
        "print(\"\\t\\t\\t|--------------------------------------------|\")\n",
        "print(f\"\\t\\t\\t    you guessed it correctly in '{guesses}' Tries\")\n",
        "print(\"\\t\\t\\t|--------------------------------------------|\")"
      ]
    },
    {
      "cell_type": "code",
      "source": [
        "18"
      ],
      "metadata": {
        "id": "PkpgBi0nmrSJ"
      },
      "execution_count": null,
      "outputs": []
    }
  ]
}